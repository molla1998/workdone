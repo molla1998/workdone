{
 "cells": [
  {
   "cell_type": "code",
   "execution_count": 1,
   "metadata": {},
   "outputs": [],
   "source": [
    "import pandas as pd"
   ]
  },
  {
   "cell_type": "code",
   "execution_count": 2,
   "metadata": {},
   "outputs": [],
   "source": [
    "data=pd.read_csv(r'C:\\Users\\TITAS\\Downloads\\GunviolenceSA.csv')"
   ]
  },
  {
   "cell_type": "code",
   "execution_count": 3,
   "metadata": {},
   "outputs": [
    {
     "data": {
      "text/html": [
       "<div>\n",
       "<style scoped>\n",
       "    .dataframe tbody tr th:only-of-type {\n",
       "        vertical-align: middle;\n",
       "    }\n",
       "\n",
       "    .dataframe tbody tr th {\n",
       "        vertical-align: top;\n",
       "    }\n",
       "\n",
       "    .dataframe thead th {\n",
       "        text-align: right;\n",
       "    }\n",
       "</style>\n",
       "<table border=\"1\" class=\"dataframe\">\n",
       "  <thead>\n",
       "    <tr style=\"text-align: right;\">\n",
       "      <th></th>\n",
       "      <th>Incident Date</th>\n",
       "      <th>State</th>\n",
       "      <th>City Or County</th>\n",
       "      <th>Address</th>\n",
       "      <th>Latitude</th>\n",
       "      <th>Longitude</th>\n",
       "      <th># Killed</th>\n",
       "      <th># Injured</th>\n",
       "      <th>featureID</th>\n",
       "      <th>URL</th>\n",
       "    </tr>\n",
       "  </thead>\n",
       "  <tbody>\n",
       "    <tr>\n",
       "      <td>0</td>\n",
       "      <td>24-Jun-18</td>\n",
       "      <td>Texas</td>\n",
       "      <td>San Antonio</td>\n",
       "      <td>NW Loop 410</td>\n",
       "      <td>29.520896</td>\n",
       "      <td>-98.496834</td>\n",
       "      <td>0</td>\n",
       "      <td>0</td>\n",
       "      <td>149084</td>\n",
       "      <td>http://www.gunviolencearchive.org/incident/114...</td>\n",
       "    </tr>\n",
       "    <tr>\n",
       "      <td>1</td>\n",
       "      <td>24-Jun-18</td>\n",
       "      <td>Texas</td>\n",
       "      <td>San Antonio</td>\n",
       "      <td>222 N New Braunfels Ave</td>\n",
       "      <td>29.422051</td>\n",
       "      <td>-98.460863</td>\n",
       "      <td>1</td>\n",
       "      <td>0</td>\n",
       "      <td>149008</td>\n",
       "      <td>http://www.gunviolencearchive.org/incident/114...</td>\n",
       "    </tr>\n",
       "    <tr>\n",
       "      <td>2</td>\n",
       "      <td>23-Jun-18</td>\n",
       "      <td>Texas</td>\n",
       "      <td>San Antonio</td>\n",
       "      <td>4553 N Loop 1604 W</td>\n",
       "      <td>29.595993</td>\n",
       "      <td>-98.574291</td>\n",
       "      <td>1</td>\n",
       "      <td>0</td>\n",
       "      <td>148100</td>\n",
       "      <td>http://www.gunviolencearchive.org/incident/114...</td>\n",
       "    </tr>\n",
       "    <tr>\n",
       "      <td>3</td>\n",
       "      <td>22-Jun-18</td>\n",
       "      <td>Texas</td>\n",
       "      <td>San Antonio</td>\n",
       "      <td>I-35</td>\n",
       "      <td>31.610595</td>\n",
       "      <td>-97.104834</td>\n",
       "      <td>0</td>\n",
       "      <td>0</td>\n",
       "      <td>147609</td>\n",
       "      <td>http://www.gunviolencearchive.org/incident/114...</td>\n",
       "    </tr>\n",
       "    <tr>\n",
       "      <td>4</td>\n",
       "      <td>21-Jun-18</td>\n",
       "      <td>Texas</td>\n",
       "      <td>San Antonio</td>\n",
       "      <td>Chihuahua St and Hamilton St</td>\n",
       "      <td>29.416962</td>\n",
       "      <td>-98.532977</td>\n",
       "      <td>1</td>\n",
       "      <td>0</td>\n",
       "      <td>148104</td>\n",
       "      <td>http://www.gunviolencearchive.org/incident/114...</td>\n",
       "    </tr>\n",
       "  </tbody>\n",
       "</table>\n",
       "</div>"
      ],
      "text/plain": [
       "  Incident Date  State City Or County                       Address  \\\n",
       "0     24-Jun-18  Texas    San Antonio                   NW Loop 410   \n",
       "1     24-Jun-18  Texas    San Antonio       222 N New Braunfels Ave   \n",
       "2     23-Jun-18  Texas    San Antonio            4553 N Loop 1604 W   \n",
       "3     22-Jun-18  Texas    San Antonio                          I-35   \n",
       "4     21-Jun-18  Texas    San Antonio  Chihuahua St and Hamilton St   \n",
       "\n",
       "    Latitude  Longitude  # Killed  # Injured  featureID  \\\n",
       "0  29.520896 -98.496834         0          0     149084   \n",
       "1  29.422051 -98.460863         1          0     149008   \n",
       "2  29.595993 -98.574291         1          0     148100   \n",
       "3  31.610595 -97.104834         0          0     147609   \n",
       "4  29.416962 -98.532977         1          0     148104   \n",
       "\n",
       "                                                 URL  \n",
       "0  http://www.gunviolencearchive.org/incident/114...  \n",
       "1  http://www.gunviolencearchive.org/incident/114...  \n",
       "2  http://www.gunviolencearchive.org/incident/114...  \n",
       "3  http://www.gunviolencearchive.org/incident/114...  \n",
       "4  http://www.gunviolencearchive.org/incident/114...  "
      ]
     },
     "execution_count": 3,
     "metadata": {},
     "output_type": "execute_result"
    }
   ],
   "source": [
    "data.head()"
   ]
  },
  {
   "cell_type": "code",
   "execution_count": 4,
   "metadata": {},
   "outputs": [],
   "source": [
    "data_incident_date=data['Incident Date']\n",
    "l=data_incident_date.shape[0]\n",
    "data_created=[]\n",
    "for i in range(0,l):\n",
    "    data_temp=data_incident_date[i].split('-')\n",
    "    data_created.append(data_temp[1])"
   ]
  },
  {
   "cell_type": "code",
   "execution_count": 5,
   "metadata": {},
   "outputs": [],
   "source": [
    "data_month = pd.DataFrame({'month':data_created})"
   ]
  },
  {
   "cell_type": "code",
   "execution_count": 6,
   "metadata": {},
   "outputs": [],
   "source": [
    "data_eff=pd.concat([data_month,data['# Killed'],data['# Injured']], axis = 1)"
   ]
  },
  {
   "cell_type": "code",
   "execution_count": 7,
   "metadata": {},
   "outputs": [
    {
     "data": {
      "text/html": [
       "<div>\n",
       "<style scoped>\n",
       "    .dataframe tbody tr th:only-of-type {\n",
       "        vertical-align: middle;\n",
       "    }\n",
       "\n",
       "    .dataframe tbody tr th {\n",
       "        vertical-align: top;\n",
       "    }\n",
       "\n",
       "    .dataframe thead th {\n",
       "        text-align: right;\n",
       "    }\n",
       "</style>\n",
       "<table border=\"1\" class=\"dataframe\">\n",
       "  <thead>\n",
       "    <tr style=\"text-align: right;\">\n",
       "      <th></th>\n",
       "      <th>month</th>\n",
       "      <th># Killed</th>\n",
       "      <th># Injured</th>\n",
       "    </tr>\n",
       "  </thead>\n",
       "  <tbody>\n",
       "    <tr>\n",
       "      <td>0</td>\n",
       "      <td>Jun</td>\n",
       "      <td>0</td>\n",
       "      <td>0</td>\n",
       "    </tr>\n",
       "    <tr>\n",
       "      <td>1</td>\n",
       "      <td>Jun</td>\n",
       "      <td>1</td>\n",
       "      <td>0</td>\n",
       "    </tr>\n",
       "    <tr>\n",
       "      <td>2</td>\n",
       "      <td>Jun</td>\n",
       "      <td>1</td>\n",
       "      <td>0</td>\n",
       "    </tr>\n",
       "    <tr>\n",
       "      <td>3</td>\n",
       "      <td>Jun</td>\n",
       "      <td>0</td>\n",
       "      <td>0</td>\n",
       "    </tr>\n",
       "    <tr>\n",
       "      <td>4</td>\n",
       "      <td>Jun</td>\n",
       "      <td>1</td>\n",
       "      <td>0</td>\n",
       "    </tr>\n",
       "  </tbody>\n",
       "</table>\n",
       "</div>"
      ],
      "text/plain": [
       "  month  # Killed  # Injured\n",
       "0   Jun         0          0\n",
       "1   Jun         1          0\n",
       "2   Jun         1          0\n",
       "3   Jun         0          0\n",
       "4   Jun         1          0"
      ]
     },
     "execution_count": 7,
     "metadata": {},
     "output_type": "execute_result"
    }
   ],
   "source": [
    "data_eff.head()"
   ]
  },
  {
   "cell_type": "code",
   "execution_count": 8,
   "metadata": {},
   "outputs": [],
   "source": [
    "L=list(pd.Categorical(data_eff['month'].unique()))"
   ]
  },
  {
   "cell_type": "code",
   "execution_count": 9,
   "metadata": {},
   "outputs": [
    {
     "name": "stdout",
     "output_type": "stream",
     "text": [
      "Jun : \t Injured= 15 \t Killed= 6 \t Total= 21\n",
      "May : \t Injured= 23 \t Killed= 7 \t Total= 30\n",
      "Apr : \t Injured= 4 \t Killed= 1 \t Total= 5\n",
      "Most Kill & injury happened in: May\n"
     ]
    }
   ],
   "source": [
    "Total=0\n",
    "for x in L:\n",
    "    temp=x\n",
    "    inj=data_eff.query(\"month == @temp\")['# Injured'].sum()\n",
    "    kil=data_eff.query(\"month == @temp\")['# Killed'].sum()\n",
    "    total_per_iter=inj+kil\n",
    "    if total_per_iter>Total:\n",
    "        Total=total_per_iter\n",
    "        month=x\n",
    "    print(x,':','\\t','Injured=',inj,'\\t','Killed=',kil,'\\t','Total=',total_per_iter)\n",
    "    \n",
    "print('Most Kill & injury happened in:',month)"
   ]
  }
 ],
 "metadata": {
  "kernelspec": {
   "display_name": "Python 3",
   "language": "python",
   "name": "python3"
  },
  "language_info": {
   "codemirror_mode": {
    "name": "ipython",
    "version": 3
   },
   "file_extension": ".py",
   "mimetype": "text/x-python",
   "name": "python",
   "nbconvert_exporter": "python",
   "pygments_lexer": "ipython3",
   "version": "3.7.4"
  }
 },
 "nbformat": 4,
 "nbformat_minor": 2
}
